{
 "cells": [
  {
   "cell_type": "code",
   "execution_count": 12,
   "id": "2dfb96a3-e58a-4e88-b386-a462b66c320c",
   "metadata": {},
   "outputs": [],
   "source": [
    "import requests\n",
    "import json"
   ]
  },
  {
   "cell_type": "code",
   "execution_count": 13,
   "id": "1197ac18-f88e-46cb-8f89-1deb33bd5689",
   "metadata": {},
   "outputs": [],
   "source": [
    "headers = {'Accept': 'application/json'}\n",
    "url = 'https://api.coingecko.com/api/v3/coins/markets?vs_currency=usd&order=market_cap_desc&per_page=100&page=1&sparkline=false'\n",
    "r = requests.get(url=url, headers=headers)"
   ]
  },
  {
   "cell_type": "code",
   "execution_count": 14,
   "id": "54b0a79a-570d-4fe1-b600-b77f0ae21f82",
   "metadata": {},
   "outputs": [
    {
     "data": {
      "text/plain": [
       "bytes"
      ]
     },
     "execution_count": 14,
     "metadata": {},
     "output_type": "execute_result"
    }
   ],
   "source": [
    "type(r.content)"
   ]
  },
  {
   "cell_type": "code",
   "execution_count": 16,
   "id": "59f1e2a2-a9f3-4009-9528-bb75d81fa03b",
   "metadata": {},
   "outputs": [],
   "source": [
    "str_coins = r.content.decode('utf8')\n",
    "coins = json.loads(str_coins)"
   ]
  },
  {
   "cell_type": "code",
   "execution_count": 17,
   "id": "5808a42b-a90b-435d-8241-3b5582e68ecc",
   "metadata": {},
   "outputs": [
    {
     "data": {
      "text/plain": [
       "list"
      ]
     },
     "execution_count": 17,
     "metadata": {},
     "output_type": "execute_result"
    }
   ],
   "source": [
    "type(coins)"
   ]
  },
  {
   "cell_type": "code",
   "execution_count": 18,
   "id": "01312306-5a44-42fc-947f-b536ff4a6135",
   "metadata": {},
   "outputs": [
    {
     "name": "stdout",
     "output_type": "stream",
     "text": [
      "{'id': 'ethereum', 'symbol': 'eth', 'name': 'Ethereum', 'image': 'https://assets.coingecko.com/coins/images/279/large/ethereum.png?1595348880', 'current_price': 1715.49, 'market_cap': 206653031176, 'market_cap_rank': 2, 'fully_diluted_valuation': 206651231566, 'total_volume': 9969669940, 'high_24h': 1770.9, 'low_24h': 1698.22, 'price_change_24h': -53.064706941006534, 'price_change_percentage_24h': -3.00045, 'market_cap_change_24h': -6522318922.56366, 'market_cap_change_percentage_24h': -3.0596, 'circulating_supply': 120452174.606695, 'total_supply': 120451125.665427, 'max_supply': None, 'ath': 4878.26, 'ath_change_percentage': -64.83694, 'ath_date': '2021-11-10T14:24:19.604Z', 'atl': 0.432979, 'atl_change_percentage': 396073.0677, 'atl_date': '2015-10-20T00:00:00.000Z', 'roi': {'times': 84.02627548960363, 'currency': 'btc', 'percentage': 8402.627548960363}, 'last_updated': '2023-03-28T04:49:34.941Z'}\n"
     ]
    }
   ],
   "source": [
    "print(coins[1])"
   ]
  },
  {
   "cell_type": "code",
   "execution_count": null,
   "id": "93cb9517-d0ed-4e3d-bd4c-7f1d9353d18e",
   "metadata": {},
   "outputs": [],
   "source": []
  }
 ],
 "metadata": {
  "kernelspec": {
   "display_name": "Python 3 (ipykernel)",
   "language": "python",
   "name": "python3"
  },
  "language_info": {
   "codemirror_mode": {
    "name": "ipython",
    "version": 3
   },
   "file_extension": ".py",
   "mimetype": "text/x-python",
   "name": "python",
   "nbconvert_exporter": "python",
   "pygments_lexer": "ipython3",
   "version": "3.10.7"
  }
 },
 "nbformat": 4,
 "nbformat_minor": 5
}

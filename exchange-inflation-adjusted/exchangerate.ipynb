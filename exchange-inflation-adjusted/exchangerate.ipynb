{
 "cells": [
  {
   "cell_type": "code",
   "execution_count": null,
   "id": "9e3c8955-0302-4cf2-9fbd-dcc892387f01",
   "metadata": {},
   "outputs": [
    {
     "ename": "ImportError",
     "evalue": "cannot import name 'strptime' from 'datetime' (/usr/local/Cellar/python@3.10/3.10.7/Frameworks/Python.framework/Versions/3.10/lib/python3.10/datetime.py)",
     "output_type": "error",
     "traceback": [
      "\u001b[0;31m---------------------------------------------------------------------------\u001b[0m",
      "\u001b[0;31mImportError\u001b[0m                               Traceback (most recent call last)",
      "Cell \u001b[0;32mIn[1], line 10\u001b[0m\n\u001b[1;32m      8\u001b[0m \u001b[38;5;28;01mimport\u001b[39;00m \u001b[38;5;21;01mcsv\u001b[39;00m\n\u001b[1;32m      9\u001b[0m \u001b[38;5;28;01mfrom\u001b[39;00m \u001b[38;5;21;01mdatetime\u001b[39;00m \u001b[38;5;28;01mimport\u001b[39;00m datetime\n\u001b[0;32m---> 10\u001b[0m \u001b[38;5;28;01mfrom\u001b[39;00m \u001b[38;5;21;01mdatetime\u001b[39;00m \u001b[38;5;28;01mimport\u001b[39;00m strptime\n\u001b[1;32m     11\u001b[0m \u001b[38;5;28;01mimport\u001b[39;00m \u001b[38;5;21;01mdecimal\u001b[39;00m\n\u001b[1;32m     12\u001b[0m \u001b[38;5;28;01mfrom\u001b[39;00m \u001b[38;5;21;01mpprint\u001b[39;00m \u001b[38;5;28;01mimport\u001b[39;00m pprint\n",
      "\u001b[0;31mImportError\u001b[0m: cannot import name 'strptime' from 'datetime' (/usr/local/Cellar/python@3.10/3.10.7/Frameworks/Python.framework/Versions/3.10/lib/python3.10/datetime.py)"
     ]
    }
   ],
   "source": [
    "#\n",
    "# imports:\n",
    "# forex_python is included in the Pipfile\n",
    "# run 'pipenv install' then 'pipenv shell' and finally 'jupyter lab'\n",
    "#\n",
    "import logging\n",
    "from forex_python.converter import CurrencyRates\n",
    "import csv\n",
    "from datetime import datetime\n",
    "from datetime import strptime\n",
    "import decimal\n",
    "from pprint import pprint\n",
    "\n",
    "# setup logging\n",
    "log = logging.getLogger()\n",
    "handler = logging.StreamHandler()\n",
    "formatter = logging.Formatter('%(asctime)s %(name)-12s %(levelname)-8s %(message)s')\n",
    "handler.setFormatter(formatter)\n",
    "log.addHandler(handler)\n",
    "log.setLevel(logging.INFO)"
   ]
  },
  {
   "cell_type": "code",
   "execution_count": null,
   "id": "95cee6a8-a176-47cd-8462-c614915f1cea",
   "metadata": {},
   "outputs": [],
   "source": [
    "#\n",
    "# loading the csv file into a list of dicts\n",
    "#\n",
    "def load_transactions_csv(filename):\n",
    "    with open(filename,'r') as csvfile:\n",
    "        reader = csv.DictReader(csvfile)\n",
    "        transactions = list(reader)\n",
    "        log.info(f\"loaded {len(transactions)} transaction records from {filename}\") \n",
    "        return transactions"
   ]
  },
  {
   "cell_type": "code",
   "execution_count": null,
   "id": "a8c492b5-96b3-44ea-af20-1ff6244c3087",
   "metadata": {},
   "outputs": [],
   "source": [
    "def save_transactions_csv(filename):\n",
    "    with open(filename, 'w', newline='') as csvfile:\n",
    "        # we're going to add some fields to this CSV as we go, let's account for them in here\n",
    "        fieldnames = ['id', 'customer_id', 'customer_country_code', 'processed_at', 'currency', 'amount', 'transaction_date', 'daily_exchange_rate', 'calculated_value_in_usd', 'inflation_adjust_value_in_usd']\n",
    "        writer = csv.DictWriter(csvfile, fieldnames=fieldnames, delimiter=',')\n",
    "        writer.writeheader()\n",
    "        for transaction in transactions:\n",
    "           writer.writerow(transaction)"
   ]
  },
  {
   "cell_type": "code",
   "execution_count": null,
   "id": "70ec7fab-3a3d-4e63-9b6a-86cc0a466ed0",
   "metadata": {},
   "outputs": [],
   "source": [
    "transactions = load_transactions_csv('transactions_amended.csv')"
   ]
  },
  {
   "cell_type": "code",
   "execution_count": null,
   "id": "4c36d292-4fd1-4c97-b3c1-ed7dec13fd7f",
   "metadata": {},
   "outputs": [],
   "source": [
    "#\n",
    "# take a look at a snippet of what we have\n",
    "#\n",
    "for transaction in transactions[0:2]:\n",
    "    print(transaction)"
   ]
  },
  {
   "cell_type": "code",
   "execution_count": null,
   "id": "ed6a64f1-d8ed-47e2-a38e-ab49bb795a11",
   "metadata": {},
   "outputs": [],
   "source": [
    "#\n",
    "# Call this method to check on our progress getting through the ordered list of transactions\n",
    "#\n",
    "def rows_remaining(key_to_check):\n",
    "    count = 0\n",
    "    for transaction in transactions:\n",
    "        if transaction[key_to_check] == '':\n",
    "            count += 1\n",
    "    log.info(f\"Transactions missing a {key_to_check}: {count} out of {len(transactions)} total\")"
   ]
  },
  {
   "cell_type": "code",
   "execution_count": null,
   "id": "ac23662d-3d09-45ee-ae90-5d3c84bfbc55",
   "metadata": {},
   "outputs": [],
   "source": [
    "#\n",
    "# the currency column looks a little choppy. let's see what we're dealing with\n",
    "#\n",
    "def list_currencies():\n",
    "    currencies = []\n",
    "    for transaction in transactions:\n",
    "        if transaction['currency'] not in currencies:\n",
    "            currencies.append(transaction['currency'])\n",
    "\n",
    "    print(currencies)\n",
    "    \n",
    "list_currencies()"
   ]
  },
  {
   "cell_type": "code",
   "execution_count": null,
   "id": "aead34cd-1738-4090-aadf-58066bf6a7f2",
   "metadata": {},
   "outputs": [],
   "source": [
    "#\n",
    "# normalize the choppy currency column so that it uses the forex-python standard currency codes\n",
    "# we also have the 'customer_country' column to go off of, but we can't assume customers in Britain\n",
    "# always pay in pounds, and the same goes for customers in germany always paying with euros \n",
    "#\n",
    "def convert_currency_code(code):\n",
    "    code = code.lower()\n",
    "    normalized_code = \"\"\n",
    "    if code in [\"€\", \"eur\", \"euro\",]:\n",
    "        normalized_code = \"EUR\"\n",
    "    elif code in [\"$\", \"usd\", \"us dollars\", \"dollars\",]:\n",
    "        normalized_code = \"USD\"\n",
    "    elif code in [\"£\", \"gbp\", \"british pound\", \"pounds\",]:\n",
    "        normalized_code = \"GBP\"\n",
    "    elif code in [\"¥\", \"jpy\", \"japanese yen\", \"yen\",]:\n",
    "        normalized_code = \"JPY\"\n",
    "    # add more currency codes as needed\n",
    "    else:\n",
    "        log.warning(f\"Currency '{code}' not recognized\")\n",
    "        normalized_currency_code = code # return something if code is not recognized\n",
    "        \n",
    "    return normalized_code"
   ]
  },
  {
   "cell_type": "code",
   "execution_count": null,
   "id": "2e7eb9de-9ec6-4f48-b35e-ec607a5752f5",
   "metadata": {},
   "outputs": [],
   "source": [
    "#\n",
    "# for those transaction where the amount is 0.0, '', or None, we'll remove the transaction from our list\n",
    "#\n",
    "def zero_value_transaction(amount):\n",
    "    if amount == '0.0' or amount == '' or amount == None:\n",
    "        return True\n",
    "    else:\n",
    "        return False"
   ]
  },
  {
   "cell_type": "code",
   "execution_count": null,
   "id": "7201bbce-b53d-4770-9c5e-b800ead6edeb",
   "metadata": {},
   "outputs": [],
   "source": [
    "#\n",
    "# separate date and time. these look pretty standard, so let's just try/catch in case a future CSV has\n",
    "# some rough data in this column. we wouldn't want to propagate that data to the next steps of the data pipeline\n",
    "#\n",
    "def date_from_timestamp(timestamp):\n",
    "    try:\n",
    "        dt = datetime.strptime(timestamp, '%Y-%m-%d %H:%M:%S %Z')\n",
    "        iso_date = dt.date().isoformat()\n",
    "        iso_time = dt.time().strftime('%H:%M:%S')\n",
    "    except:\n",
    "        print(\"Error converting \", timestamp)\n",
    "        raise SystemExit()\n",
    "    else:\n",
    "        return iso_date"
   ]
  },
  {
   "cell_type": "code",
   "execution_count": null,
   "id": "60e10c8c-e6b3-4ea7-9252-37b619d02b52",
   "metadata": {},
   "outputs": [],
   "source": [
    "def calculate_value_in_usd(exchange_rate, amount):\n",
    "    try:\n",
    "        value_in_usd = float(exchange_rate) * float(amount)\n",
    "    except:\n",
    "        log.error(f\"Error converting {exchange_rate} or {amount} to float\")\n",
    "    return str(value_in_usd)"
   ]
  },
  {
   "cell_type": "code",
   "execution_count": null,
   "id": "a974e3b5-2657-4efc-8768-58e43724508a",
   "metadata": {},
   "outputs": [],
   "source": [
    "#\n",
    "# do some preprocessing:\n",
    "#   - change currency codes to conform to API standards (EUR, GBP, USD)\n",
    "#   - remove zero-value (0.0, '') transactions\n",
    "#   - add a date field with only the day, since we don't need the time for this forex conversion\n",
    "#\n",
    "#for transaction in transactions:\n",
    "#    transaction['currency'] = convert_currency_code(transaction['currency'])\n",
    "#    if zero_value_transaction(transaction['amount']):\n",
    "#        transactions.remove(transaction)\n",
    "#    transaction.update({\"transaction_date\": date_from_timestamp(transaction['processed_at'])})        "
   ]
  },
  {
   "cell_type": "code",
   "execution_count": null,
   "id": "20d4c800-db10-47f7-897f-3f76faf532f0",
   "metadata": {},
   "outputs": [],
   "source": [
    "#\n",
    "# checkpoint\n",
    "#\n",
    "save_transactions_csv('transactions_amended.csv')\n",
    "transactions = load_transactions_csv('transactions_amended.csv')\n",
    "\n",
    "null_transactions = 0\n",
    "for transaction in transactions:\n",
    "    if transaction['amount'] == '0.0' or transaction['amount'] == '':\n",
    "        null_transactions += 1\n",
    "\n",
    "log.info(f\"There are currently {null_transactions} transactions with an invalid amount field in the list\")\n",
    "log.info(f\"The currency codes listed in the transactions are {list_currencies()}\")\n"
   ]
  },
  {
   "cell_type": "code",
   "execution_count": null,
   "id": "6b6fb296-62f9-4145-8fff-f4a10af0ed43",
   "metadata": {},
   "outputs": [],
   "source": [
    "save_transactions_csv('transactions_amended.csv')"
   ]
  },
  {
   "cell_type": "code",
   "execution_count": 47,
   "id": "401f5d39-d728-4d89-9afc-1c3d67ecc0a2",
   "metadata": {},
   "outputs": [
    {
     "name": "stderr",
     "output_type": "stream",
     "text": [
      "2023-03-03 19:30:03,496 root         INFO     Fetching exchange rate for EUR to USD on 2021-11-05\n",
      "2023-03-03 19:30:04,396 root         ERROR    Error attempting to calculate USD value for {'id': '4314494369952', 'customer_id': '5778687852704', 'customer_country_code': 'DE', 'processed_at': '2021-11-05 07:08:29 UTC', 'currency': 'EUR', 'amount': '24.41', 'transaction_date': '2021-11-05', 'daily_exchange_rate': '', 'calculated_value_in_usd': '', 'inflation_adjust_value_in_usd': ''}\n",
      "2023-03-03 19:30:21,260 root         INFO     Fetching exchange rate for GBP to USD on 2021-09-12\n",
      "2023-03-03 19:30:22,072 root         ERROR    Error attempting to calculate USD value for {'id': '4184418091168', 'customer_id': '5582348714144', 'customer_country_code': 'GB', 'processed_at': '2021-09-12 16:26:37 UTC', 'currency': 'GBP', 'amount': '19.92', 'transaction_date': '2021-09-12', 'daily_exchange_rate': '', 'calculated_value_in_usd': '', 'inflation_adjust_value_in_usd': ''}\n",
      "2023-03-03 19:30:23,383 root         INFO     Fetching exchange rate for GBP to USD on 2021-08-14\n",
      "2023-03-03 19:30:24,296 root         ERROR    Error attempting to calculate USD value for {'id': '4117136834720', 'customer_id': '5492886241440', 'customer_country_code': 'GB', 'processed_at': '2021-08-14 22:47:42 UTC', 'currency': 'GBP', 'amount': '19.92', 'transaction_date': '2021-08-14', 'daily_exchange_rate': '', 'calculated_value_in_usd': '', 'inflation_adjust_value_in_usd': ''}\n",
      "2023-03-03 19:30:27,648 root         INFO     Fetching exchange rate for EUR to USD on 2019-11-17\n",
      "2023-03-03 19:30:28,594 root         ERROR    Error attempting to calculate USD value for {'id': '1856008749115', 'customer_id': '2686458888251', 'customer_country_code': 'DE', 'processed_at': '2019-11-17 21:50:54 UTC', 'currency': 'EUR', 'amount': '27.18', 'transaction_date': '2019-11-17', 'daily_exchange_rate': '', 'calculated_value_in_usd': '', 'inflation_adjust_value_in_usd': ''}\n",
      "2023-03-03 19:30:35,203 root         INFO     Fetching exchange rate for GBP to USD on 2019-11-10\n",
      "2023-03-03 19:30:35,939 root         ERROR    Error attempting to calculate USD value for {'id': '1848798216251', 'customer_id': '1440453034043', 'customer_country_code': 'GB', 'processed_at': '2019-11-10 21:04:26 UTC', 'currency': 'GBP', 'amount': '18.38', 'transaction_date': '2019-11-10', 'daily_exchange_rate': '', 'calculated_value_in_usd': '', 'inflation_adjust_value_in_usd': ''}\n",
      "2023-03-03 19:30:40,631 root         INFO     Fetching exchange rate for GBP to USD on 2019-11-03\n",
      "2023-03-03 19:30:41,603 root         ERROR    Error attempting to calculate USD value for {'id': '1839756836923', 'customer_id': '2669296353339', 'customer_country_code': 'GB', 'processed_at': '2019-11-03 00:21:23 UTC', 'currency': 'GBP', 'amount': '12.23', 'transaction_date': '2019-11-03', 'daily_exchange_rate': '', 'calculated_value_in_usd': '', 'inflation_adjust_value_in_usd': ''}\n",
      "2023-03-03 19:30:52,689 root         INFO     Fetching exchange rate for GBP to USD on 2021-02-21\n",
      "2023-03-03 19:30:54,563 root         ERROR    Error attempting to calculate USD value for {'id': '3283087655072', 'customer_id': '4546069561504', 'customer_country_code': 'GB', 'processed_at': '2021-02-21 04:02:54 UTC', 'currency': 'GBP', 'amount': '19.92', 'transaction_date': '2021-02-21', 'daily_exchange_rate': '', 'calculated_value_in_usd': '', 'inflation_adjust_value_in_usd': ''}\n",
      "2023-03-03 19:30:54,870 root         INFO     Fetching exchange rate for GBP to USD on 2019-05-27\n",
      "2023-03-03 19:30:55,652 root         ERROR    Error attempting to calculate USD value for {'id': '1143243112507', 'customer_id': '1516689686587', 'customer_country_code': 'GB', 'processed_at': '2019-05-27 22:54:27 UTC', 'currency': 'GBP', 'amount': '19.92', 'transaction_date': '2019-05-27', 'daily_exchange_rate': '', 'calculated_value_in_usd': '', 'inflation_adjust_value_in_usd': ''}\n",
      "2023-03-03 19:30:58,786 root         INFO     Fetching exchange rate for GBP to USD on 2019-06-26\n",
      "2023-03-03 19:30:59,623 root         ERROR    Error attempting to calculate USD value for {'id': '1187035709499', 'customer_id': '1514157703227', 'customer_country_code': 'GB', 'processed_at': '2019-06-26 02:01:30 UTC', 'currency': 'GBP', 'amount': '17.69', 'transaction_date': '2019-06-26', 'daily_exchange_rate': '', 'calculated_value_in_usd': '', 'inflation_adjust_value_in_usd': ''}\n",
      "2023-03-03 19:31:01,188 root         INFO     Fetching exchange rate for EUR to USD on 2020-05-02\n",
      "2023-03-03 19:31:02,586 root         ERROR    Error attempting to calculate USD value for {'id': '2217874128955', 'customer_id': '3242670293051', 'customer_country_code': 'DE', 'processed_at': '2020-05-02 16:07:12 UTC', 'currency': 'EUR', 'amount': '47.09', 'transaction_date': '2020-05-02', 'daily_exchange_rate': '', 'calculated_value_in_usd': '', 'inflation_adjust_value_in_usd': ''}\n",
      "2023-03-03 19:31:04,034 root         INFO     Fetching exchange rate for GBP to USD on 2022-02-20\n",
      "2023-03-03 19:31:04,800 root         ERROR    Error attempting to calculate USD value for {'id': '4501613248672', 'customer_id': '6001902780576', 'customer_country_code': 'GB', 'processed_at': '2022-02-20 15:52:23 UTC', 'currency': 'GBP', 'amount': '22.43', 'transaction_date': '2022-02-20', 'daily_exchange_rate': '', 'calculated_value_in_usd': '', 'inflation_adjust_value_in_usd': ''}\n",
      "2023-03-03 19:31:06,222 root         INFO     Fetching exchange rate for EUR to USD on 2019-10-26\n",
      "2023-03-03 19:31:07,018 root         ERROR    Error attempting to calculate USD value for {'id': '1825618919483', 'customer_id': '2640590995515', 'customer_country_code': 'DE', 'processed_at': '2019-10-26 09:50:54 UTC', 'currency': 'EUR', 'amount': '35.32', 'transaction_date': '2019-10-26', 'daily_exchange_rate': '', 'calculated_value_in_usd': '', 'inflation_adjust_value_in_usd': ''}\n",
      "2023-03-03 19:31:08,229 root         INFO     Fetching exchange rate for EUR to USD on 2021-08-06\n",
      "2023-03-03 19:31:08,954 root         ERROR    Error attempting to calculate USD value for {'id': '4098913435808', 'customer_id': '5336220565664', 'customer_country_code': 'DE', 'processed_at': '2021-08-06 22:40:17 UTC', 'currency': 'EUR', 'amount': '10.38', 'transaction_date': '2021-08-06', 'daily_exchange_rate': '', 'calculated_value_in_usd': '', 'inflation_adjust_value_in_usd': ''}\n",
      "2023-03-03 19:31:09,600 root         INFO     Fetching exchange rate for GBP to USD on 2021-02-21\n",
      "2023-03-03 19:31:10,320 root         ERROR    Error attempting to calculate USD value for {'id': '3283097059488', 'customer_id': '4546069561504', 'customer_country_code': 'GB', 'processed_at': '2021-02-21 04:04:52 UTC', 'currency': 'GBP', 'amount': '3.44', 'transaction_date': '2021-02-21', 'daily_exchange_rate': '', 'calculated_value_in_usd': '', 'inflation_adjust_value_in_usd': ''}\n",
      "2023-03-03 19:31:17,043 root         INFO     Fetching exchange rate for EUR to USD on 2019-06-14\n",
      "2023-03-03 19:31:17,766 root         ERROR    Error attempting to calculate USD value for {'id': '1170448580667', 'customer_id': '1549468794939', 'customer_country_code': 'DE', 'processed_at': '2019-06-14 17:52:21 UTC', 'currency': 'EUR', 'amount': '23.55', 'transaction_date': '2019-06-14', 'daily_exchange_rate': '', 'calculated_value_in_usd': '', 'inflation_adjust_value_in_usd': ''}\n",
      "2023-03-03 19:31:18,882 root         INFO     Fetching exchange rate for GBP to USD on 2021-03-19\n",
      "2023-03-03 19:31:19,785 root         ERROR    Error attempting to calculate USD value for {'id': '3745212465312', 'customer_id': '5090851192992', 'customer_country_code': 'GB', 'processed_at': '2021-03-19 15:29:12 UTC', 'currency': 'GBP', 'amount': '21.46', 'transaction_date': '2021-03-19', 'daily_exchange_rate': '', 'calculated_value_in_usd': '', 'inflation_adjust_value_in_usd': ''}\n",
      "2023-03-03 19:31:21,233 root         INFO     Fetching exchange rate for EUR to USD on 2021-01-29\n",
      "2023-03-03 19:31:22,157 root         ERROR    Error attempting to calculate USD value for {'id': '3154084200608', 'customer_id': '4477803659424', 'customer_country_code': 'DE', 'processed_at': '2021-01-29 05:47:59 UTC', 'currency': 'EUR', 'amount': '17.19', 'transaction_date': '2021-01-29', 'daily_exchange_rate': '', 'calculated_value_in_usd': '', 'inflation_adjust_value_in_usd': ''}\n",
      "2023-03-03 19:31:27,326 root         INFO     Fetching exchange rate for GBP to USD on 2021-03-13\n",
      "2023-03-03 19:31:28,293 root         ERROR    Error attempting to calculate USD value for {'id': '3727417147552', 'customer_id': '5072217440416', 'customer_country_code': 'GB', 'processed_at': '2021-03-13 00:04:50 UTC', 'currency': 'GBP', 'amount': '23.3', 'transaction_date': '2021-03-13', 'daily_exchange_rate': '', 'calculated_value_in_usd': '', 'inflation_adjust_value_in_usd': ''}\n",
      "2023-03-03 19:31:30,460 root         INFO     Fetching exchange rate for GBP to USD on 2021-09-12\n",
      "2023-03-03 19:31:31,469 root         ERROR    Error attempting to calculate USD value for {'id': '4183968710816', 'customer_id': '5581785858208', 'customer_country_code': 'GB', 'processed_at': '2021-09-12 11:13:25 UTC', 'currency': 'GBP', 'amount': '23.3', 'transaction_date': '2021-09-12', 'daily_exchange_rate': '', 'calculated_value_in_usd': '', 'inflation_adjust_value_in_usd': ''}\n",
      "2023-03-03 19:31:31,856 root         INFO     Fetching exchange rate for GBP to USD on 2019-06-23\n",
      "2023-03-03 19:31:32,697 root         ERROR    Error attempting to calculate USD value for {'id': '1183258640443', 'customer_id': '1563920138299', 'customer_country_code': 'GB', 'processed_at': '2019-06-23 12:00:24 UTC', 'currency': 'GBP', 'amount': '21.92', 'transaction_date': '2019-06-23', 'daily_exchange_rate': '', 'calculated_value_in_usd': '', 'inflation_adjust_value_in_usd': ''}\n",
      "2023-03-03 19:31:33,114 root         INFO     Fetching exchange rate for GBP to USD on 2019-06-26\n",
      "2023-03-03 19:31:33,944 root         ERROR    Error attempting to calculate USD value for {'id': '1187666788411', 'customer_id': '1561842090043', 'customer_country_code': 'GB', 'processed_at': '2019-06-26 14:33:34 UTC', 'currency': 'GBP', 'amount': '31.88', 'transaction_date': '2019-06-26', 'daily_exchange_rate': '', 'calculated_value_in_usd': '', 'inflation_adjust_value_in_usd': ''}\n",
      "2023-03-03 19:31:34,473 root         INFO     Fetching exchange rate for EUR to USD on 2019-06-25\n",
      "2023-03-03 19:31:35,257 root         ERROR    Error attempting to calculate USD value for {'id': '1185841545275', 'customer_id': '1566944100411', 'customer_country_code': 'DE', 'processed_at': '2019-06-25 07:56:56 UTC', 'currency': 'EUR', 'amount': '18.19', 'transaction_date': '2019-06-25', 'daily_exchange_rate': '', 'calculated_value_in_usd': '', 'inflation_adjust_value_in_usd': ''}\n"
     ]
    }
   ],
   "source": [
    "#\n",
    "# tabulate inflation adjusted USD value for each transaction\n",
    "#   - add a field to each transaction - 'daily_exchange_rate' containing the historical exchange rate on that day\n",
    "#   - add a field to each transaction - 'calculated_value_in_usd' based on the exchange rate on the day\n",
    "#   - add a field to each transaction - 'inflation_adjust_value_in_usd' adjusted for inflation\n",
    "#\n",
    "# we'll store the exchange rates we lookup in the file 'transactions_amended.csv'\n",
    "#\n",
    "forex_converter = CurrencyRates()\n",
    "\n",
    "for i, transaction in enumerate(transactions):\n",
    "    #\n",
    "    # do some preprocessing:\n",
    "    #   - change currency codes to conform to API standards (EUR, GBP, USD)\n",
    "    #   - remove zero-value (0.0, '') transactions\n",
    "    #   - add a date field with only the day, since we don't need the time for this forex conversion\n",
    "    #   - sort the list of transactions by 'transaction_date' and 'currency'\n",
    "    \n",
    "    #\n",
    "    transaction['currency'] = convert_currency_code(transaction['currency'])\n",
    "    if zero_value_transaction(transaction['amount']):\n",
    "        log.info(f\"Removing transaction {transaction['id']} because it has a zero value\")\n",
    "        transactions.remove(transaction)\n",
    "        break\n",
    "    transaction.update({\"transaction_date\": date_from_timestamp(transaction['processed_at'])})        \n",
    "    transactions = sorted(transactions, key=lambda x: x['transaction_date'], x['currency'])\n",
    "\n",
    "    # do some fetching and calculations\n",
    "    #   - fetch the exchange rate on the day of each transaction\n",
    "    #   - calculate usd value of transactions\n",
    "    #   - fetch CPI for the day of each transaction\n",
    "    #   - apply the CPI factor to the USD amount of the transaction to get the inflation-adjusted amount\n",
    "   \n",
    "    # fill in the daily_exchange_rate field for each transaction\n",
    "    if not transaction['daily_exchange_rate']:\n",
    "        if transaction['currency'] == 'USD':       # no currency conversion to do in this case\n",
    "            transaction.update({\"daily_exchange_rate\": 1.0})\n",
    "        else:\n",
    "            try:                    # fail we may\n",
    "                log.info(f\"Fetching exchange rate for {transaction['currency']} to USD on {transaction['transaction_date']}\")\n",
    "                transaction.update({\"daily_exchange_rate\": forex_converter.get_rate(transaction['currency'], 'USD', \n",
    "                                                           datetime.strptime(transaction['transaction_date'], '%Y-%m-%d').date())})\n",
    "\n",
    "                # optimistically loop through the remaining transactions looking for the exact date+currency combo\n",
    "                for lookahead in transactions[i+1:]:\n",
    "                    if (lookahead['transaction_date'] == transaction['transaction_date'] and \n",
    "                        lookahead['currency'] == transaction['currency']):\n",
    "                            lookahead.update({\"daily_exchange_rate\": transactions['daily_exchange_rate']})\n",
    "                            log.info(f\"Setting exchange rate for transaction {transaction['id']} based on previous fetched value\")\n",
    "                    else:  # the transaction list is sorted, so if we're looking at another date, we need to fetch it exchange rate\n",
    "                        break\n",
    "            except:                 # save we must \n",
    "                log.error(f\"Error attempting to calculate USD value for {transaction}\")\n",
    "                save_transactions_csv('transactions_amended.csv')\n",
    "    \n",
    "    # if we have an exchange rate and a valid amount, calculate value in usd\n",
    "    if not transaction['calculated_value_in_usd']:\n",
    "        if transaction['daily_exchange_rate'] and transaction['amount']:\n",
    "            log.info(f\"Setting calculated_value_in_usd for transaction {transaction['id']}\")\n",
    "            transaction['calculated_value_in_usd'] = calculate_value_in_usd(\n",
    "                transaction['daily_exchange_rate'], transaction['amount'])\n",
    "        \n",
    "    "
   ]
  },
  {
   "cell_type": "code",
   "execution_count": 48,
   "id": "6dc022c2-2bff-4be0-88eb-9e9cfe7e28f1",
   "metadata": {},
   "outputs": [],
   "source": [
    "save_transactions_csv('transactions_amended.csv')"
   ]
  },
  {
   "cell_type": "code",
   "execution_count": 49,
   "id": "1f93bf4b-9618-456f-a5e7-ce763fc5b1de",
   "metadata": {},
   "outputs": [
    {
     "name": "stderr",
     "output_type": "stream",
     "text": [
      "2023-03-03 19:31:36,373 root         INFO     Transactions missing a daily_exchange_rate: 22 out of 55135 total\n",
      "2023-03-03 19:31:36,396 root         INFO     Transactions missing a calculated_value_in_usd: 22 out of 55135 total\n"
     ]
    }
   ],
   "source": [
    "rows_remaining('daily_exchange_rate')\n",
    "rows_remaining('calculated_value_in_usd')"
   ]
  },
  {
   "cell_type": "code",
   "execution_count": 50,
   "id": "a2f48885-dbb4-4e7e-a83b-64d16cf4177e",
   "metadata": {},
   "outputs": [
    {
     "data": {
      "text/plain": [
       "55135"
      ]
     },
     "execution_count": 50,
     "metadata": {},
     "output_type": "execute_result"
    }
   ],
   "source": [
    "len(transactions)"
   ]
  },
  {
   "cell_type": "code",
   "execution_count": 51,
   "id": "8044a8c1-1dc7-4524-886d-b28dafad57aa",
   "metadata": {},
   "outputs": [
    {
     "name": "stdout",
     "output_type": "stream",
     "text": [
      "{'id': '780128321595', 'customer_id': '1137657708603', 'customer_country_code': 'DE', 'processed_at': '2018-12-11 20:55:56 UTC', 'currency': 'EUR', 'amount': '23.55', 'transaction_date': '2018-12-11', 'daily_exchange_rate': '1.1379', 'calculated_value_in_usd': '26.797545', 'inflation_adjust_value_in_usd': ''}\n"
     ]
    }
   ],
   "source": [
    "print(transactions[2])"
   ]
  },
  {
   "cell_type": "code",
   "execution_count": null,
   "id": "f3afea68-c956-42c4-9892-6757f5458b4e",
   "metadata": {},
   "outputs": [],
   "source": []
  }
 ],
 "metadata": {
  "kernelspec": {
   "display_name": "Python 3 (ipykernel)",
   "language": "python",
   "name": "python3"
  },
  "language_info": {
   "codemirror_mode": {
    "name": "ipython",
    "version": 3
   },
   "file_extension": ".py",
   "mimetype": "text/x-python",
   "name": "python",
   "nbconvert_exporter": "python",
   "pygments_lexer": "ipython3",
   "version": "3.10.7"
  }
 },
 "nbformat": 4,
 "nbformat_minor": 5
}

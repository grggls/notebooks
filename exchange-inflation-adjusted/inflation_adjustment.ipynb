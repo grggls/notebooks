{
 "cells": [
  {
   "cell_type": "code",
   "execution_count": 6,
   "id": "d82c66ee-2884-4368-baea-04a61ac09f43",
   "metadata": {},
   "outputs": [
    {
     "name": "stdout",
     "output_type": "stream",
     "text": [
      "Transaction Date: 2021-10-07\n",
      "Latest CPI Date: 2022-12-01\n",
      "Inflation Factor: 83.08\n",
      "Adjusted Amount: $3195.06\n"
     ]
    }
   ],
   "source": [
    "import requests\n",
    "from datetime import datetime\n",
    "\n",
    "api_key = '4e4375e3b9f490d14f7813fabcc099a3'\n",
    "\n",
    "def adjust_for_inflation(amount, transaction_date):\n",
    "    # Get CPI data from FRED API\n",
    "    response = requests.get(\"https://api.stlouisfed.org/fred/series/observations\", params={\n",
    "        \"series_id\": \"CPALTT01USM657N\", # CPI for all urban consumers in US\n",
    "        \"api_key\": api_key,\n",
    "        \"file_type\": \"json\",\n",
    "        \"observation_start\": transaction_date.strftime(\"%Y-%m-%d\"),\n",
    "        \"observation_end\": datetime.today().strftime(\"%Y-%m-%d\"),\n",
    "    })\n",
    "    data = response.json()\n",
    "    \n",
    "    # Extract CPI values and dates\n",
    "    cpi_values = [max(0, float(observation[\"value\"])) for observation in data[\"observations\"]] # avoid <0 CPI values from the last few months\n",
    "    cpi_dates = [datetime.strptime(observation[\"date\"], \"%Y-%m-%d\") for observation in data[\"observations\"]]\n",
    "    \n",
    "    # Calculate inflation-adjusted amount\n",
    "    cpi_at_transaction_date = cpi_values[0]\n",
    "    cpi_latest_date = cpi_dates[-1]\n",
    "    inflation_factor = cpi_at_transaction_date / max(cpi_values[-1], 0.01) # set minimum value of last CPI to 0.01 to avoid division by zero\n",
    "    adjusted_amount = amount * inflation_factor\n",
    "\n",
    "    # Print results\n",
    "    print(f\"Transaction Date: {transaction_date.strftime('%Y-%m-%d')}\")\n",
    "    print(f\"Latest CPI Date: {cpi_latest_date.strftime('%Y-%m-%d')}\")\n",
    "    print(f\"Inflation Factor: {inflation_factor:.2f}\")\n",
    "    print(f\"Adjusted Amount: ${adjusted_amount:.2f}\")\n",
    "\n",
    "\n",
    "# Example usage\n",
    "date_string = '2021-10-07'\n",
    "transaction_date = datetime.strptime(date_string, \"%Y-%m-%d\")\n",
    "amount = 38.45704809286899\n",
    "\n",
    "adjust_for_inflation(amount, transaction_date)\n",
    "# This code uses the FRED API to retrieve CPI data for all urban consumers in the US and then \n",
    "# extracts the CPI values and dates. It then calculates the inflation factor by dividing the \n",
    "# CPI at the transaction date by the latest CPI value, and applies this factor to the original \n",
    "# amount to get the adjusted amount. Finally, it prints out the results, including the inflation \n",
    "# factor and adjusted amount.\n",
    "\n",
    "\n",
    "\n"
   ]
  },
  {
   "cell_type": "code",
   "execution_count": 3,
   "id": "b9f7c318-9f8a-484f-bd41-37e4e9be3fd4",
   "metadata": {},
   "outputs": [
    {
     "name": "stdout",
     "output_type": "stream",
     "text": [
      "[datetime.datetime(2021, 10, 1, 0, 0), datetime.datetime(2021, 11, 1, 0, 0), datetime.datetime(2021, 12, 1, 0, 0), datetime.datetime(2022, 1, 1, 0, 0), datetime.datetime(2022, 2, 1, 0, 0), datetime.datetime(2022, 3, 1, 0, 0), datetime.datetime(2022, 4, 1, 0, 0), datetime.datetime(2022, 5, 1, 0, 0), datetime.datetime(2022, 6, 1, 0, 0), datetime.datetime(2022, 7, 1, 0, 0), datetime.datetime(2022, 8, 1, 0, 0), datetime.datetime(2022, 9, 1, 0, 0), datetime.datetime(2022, 10, 1, 0, 0), datetime.datetime(2022, 11, 1, 0, 0), datetime.datetime(2022, 12, 1, 0, 0)]\n"
     ]
    }
   ],
   "source": [
    "print(cpi_dates)"
   ]
  },
  {
   "cell_type": "code",
   "execution_count": 4,
   "id": "c49026fc-03cc-4a0b-869e-9a11544764af",
   "metadata": {},
   "outputs": [
    {
     "name": "stdout",
     "output_type": "stream",
     "text": [
      "[0.830811855200318, 0.491342750434762, 0.307251716148357, 0.841457378354523, 0.913397925647697, 1.33513795485627, 0.558253102565497, 1.10235239995988, 1.37360757588199, -0.0118119138337545, -0.0354399276350673, 0.215078451300104, 0.405649443411221, -0.101002644188814, -0.307009146454112]\n"
     ]
    }
   ],
   "source": [
    "print(cpi_values)"
   ]
  },
  {
   "cell_type": "code",
   "execution_count": null,
   "id": "2bbb3659-f8ac-46ab-9f39-551cf26f7707",
   "metadata": {},
   "outputs": [],
   "source": []
  }
 ],
 "metadata": {
  "kernelspec": {
   "display_name": "Python 3 (ipykernel)",
   "language": "python",
   "name": "python3"
  },
  "language_info": {
   "codemirror_mode": {
    "name": "ipython",
    "version": 3
   },
   "file_extension": ".py",
   "mimetype": "text/x-python",
   "name": "python",
   "nbconvert_exporter": "python",
   "pygments_lexer": "ipython3",
   "version": "3.10.7"
  }
 },
 "nbformat": 4,
 "nbformat_minor": 5
}
